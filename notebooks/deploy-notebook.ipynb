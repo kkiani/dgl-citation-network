{
 "cells": [
  {
   "cell_type": "code",
   "execution_count": 1,
   "id": "authorized-azerbaijan",
   "metadata": {},
   "outputs": [],
   "source": [
    "import boto3\n",
    "import sagemaker\n",
    "from sagemaker.estimator import Estimator"
   ]
  },
  {
   "cell_type": "code",
   "execution_count": 2,
   "id": "contained-logic",
   "metadata": {},
   "outputs": [],
   "source": [
    "es = Estimator(\n",
    "    role=sagemaker.get_execution_role(),\n",
    "    image_uri='939595455984.dkr.ecr.eu-west-1.amazonaws.com/dgl-citation-network:custom-torch-1.8',\n",
    "    instance_type='ml.m5.large',\n",
    "    instance_count=1,\n",
    "    hyperparameters={\n",
    "        'epochs': 100,\n",
    "        'learning-rate': 0.01\n",
    "    }\n",
    ")"
   ]
  },
  {
   "cell_type": "code",
   "execution_count": 3,
   "id": "attractive-estate",
   "metadata": {},
   "outputs": [
    {
     "name": "stdout",
     "output_type": "stream",
     "text": [
      "2021-03-26 10:57:57 Starting - Starting the training job...\n",
      "2021-03-26 10:57:59 Starting - Launching requested ML instancesProfilerReport-1616756276: InProgress\n",
      "......\n",
      "2021-03-26 10:59:23 Starting - Preparing the instances for training...\n",
      "2021-03-26 10:59:49 Downloading - Downloading input data\n",
      "2021-03-26 10:59:49 Training - Downloading the training image.........\n",
      "2021-03-26 11:01:23 Training - Training image download completed. Training in progress.\u001b[34mDGL backend not selected or invalid.  Assuming PyTorch for now.\u001b[0m\n",
      "\u001b[34mUsing backend: pytorch\u001b[0m\n",
      "\u001b[34m/usr/local/lib/python3.9/site-packages/dgl/base.py:45: DGLWarning: DGLGraph.__len__ is deprecated.Please directly call DGLGraph.number_of_nodes.\n",
      "  return warnings.warn(message, category=category, stacklevel=1)\u001b[0m\n",
      "\u001b[34mSetting the default backend to \"pytorch\". You can change it in the ~/.dgl/config.json file or export the DGLBACKEND environment variable.  Valid options are: pytorch, mxnet, tensorflow (all lowercase)\u001b[0m\n",
      "\u001b[34mDownloading /root/.dgl/cora_full.zip from https://data.dgl.ai/dataset/cora_full.zip...\u001b[0m\n",
      "\u001b[34mExtracting file to /root/.dgl/cora_full\u001b[0m\n",
      "\u001b[34mEpoch 0/100 | Loss: 4.248532772064209, train_accuracy: 0.008083869703114033, val_accuracy: 0.010608739219605923\u001b[0m\n",
      "\u001b[34mEpoch 1/100 | Loss: 4.2315826416015625, train_accuracy: 0.07427055388689041, val_accuracy: 0.04066683351993561\u001b[0m\n",
      "\u001b[34mEpoch 2/100 | Loss: 4.208803653717041, train_accuracy: 0.08810155093669891, val_accuracy: 0.05834806710481644\u001b[0m\n",
      "\u001b[34mEpoch 3/100 | Loss: 4.181185722351074, train_accuracy: 0.09826954454183578, val_accuracy: 0.06643091887235641\u001b[0m\n",
      "\u001b[34mEpoch 4/100 | Loss: 4.150736331939697, train_accuracy: 0.10155361890792847, val_accuracy: 0.07653447985649109\u001b[0m\n",
      "\u001b[34mEpoch 5/100 | Loss: 4.117206573486328, train_accuracy: 0.10281672328710556, val_accuracy: 0.07729224860668182\u001b[0m\n",
      "\u001b[34mEpoch 6/100 | Loss: 4.079586982727051, train_accuracy: 0.1047113835811615, val_accuracy: 0.08082849532365799\u001b[0m\n",
      "\u001b[34mEpoch 7/100 | Loss: 4.03805685043335, train_accuracy: 0.10534293204545975, val_accuracy: 0.08057590574026108\u001b[0m\n",
      "\u001b[34mEpoch 8/100 | Loss: 3.9941577911376953, train_accuracy: 0.10092206299304962, val_accuracy: 0.07729224860668182\u001b[0m\n",
      "\u001b[34mEpoch 9/100 | Loss: 3.9495439529418945, train_accuracy: 0.09485916048288345, val_accuracy: 0.07072492688894272\u001b[0m\n",
      "\u001b[34mEpoch 10/100 | Loss: 3.904306173324585, train_accuracy: 0.09511178731918335, val_accuracy: 0.07072492688894272\u001b[0m\n",
      "\u001b[34mEpoch 11/100 | Loss: 3.8595492839813232, train_accuracy: 0.10565871000289917, val_accuracy: 0.07981813699007034\u001b[0m\n",
      "\u001b[34mEpoch 12/100 | Loss: 3.8154964447021484, train_accuracy: 0.12308955192565918, val_accuracy: 0.098004549741745\u001b[0m\n",
      "\u001b[34mEpoch 13/100 | Loss: 3.7717580795288086, train_accuracy: 0.15043577551841736, val_accuracy: 0.1172013133764267\u001b[0m\n",
      "\u001b[34mEpoch 14/100 | Loss: 3.728031873703003, train_accuracy: 0.1725400984287262, val_accuracy: 0.1406920999288559\u001b[0m\n",
      "\u001b[34mEpoch 15/100 | Loss: 3.6840767860412598, train_accuracy: 0.18940255045890808, val_accuracy: 0.15812073647975922\u001b[0m\n",
      "\u001b[34mEpoch 16/100 | Loss: 3.6396522521972656, train_accuracy: 0.20999115705490112, val_accuracy: 0.16948723793029785\u001b[0m\n",
      "\u001b[34mEpoch 17/100 | Loss: 3.5945546627044678, train_accuracy: 0.23740053176879883, val_accuracy: 0.18918919563293457\u001b[0m\n",
      "\u001b[34mEpoch 18/100 | Loss: 3.5485379695892334, train_accuracy: 0.2672097980976105, val_accuracy: 0.2131851464509964\u001b[0m\n",
      "\u001b[34mEpoch 19/100 | Loss: 3.501359224319458, train_accuracy: 0.29354554414749146, val_accuracy: 0.23490780591964722\u001b[0m\n",
      "\u001b[34mEpoch 20/100 | Loss: 3.452873706817627, train_accuracy: 0.30788177251815796, val_accuracy: 0.24804243445396423\u001b[0m\n",
      "\u001b[34mEpoch 21/100 | Loss: 3.4031176567077637, train_accuracy: 0.31918656826019287, val_accuracy: 0.2578934133052826\u001b[0m\n",
      "\u001b[34mEpoch 22/100 | Loss: 3.352246046066284, train_accuracy: 0.32967033982276917, val_accuracy: 0.2667340338230133\u001b[0m\n",
      "\u001b[34mEpoch 23/100 | Loss: 3.3004872798919678, train_accuracy: 0.34116458892822266, val_accuracy: 0.2768375873565674\u001b[0m\n",
      "\u001b[34mEpoch 24/100 | Loss: 3.248100757598877, train_accuracy: 0.3517115116119385, val_accuracy: 0.29098257422447205\u001b[0m\n",
      "\u001b[34mEpoch 25/100 | Loss: 3.1952500343322754, train_accuracy: 0.3617531955242157, val_accuracy: 0.3048749566078186\u001b[0m\n",
      "\u001b[34mEpoch 26/100 | Loss: 3.1420750617980957, train_accuracy: 0.372236967086792, val_accuracy: 0.31649407744407654\u001b[0m\n",
      "\u001b[34mEpoch 27/100 | Loss: 3.088564157485962, train_accuracy: 0.38543641567230225, val_accuracy: 0.3326597511768341\u001b[0m\n",
      "\u001b[34mEpoch 28/100 | Loss: 3.0347087383270264, train_accuracy: 0.39794114232063293, val_accuracy: 0.3452892005443573\u001b[0m\n",
      "\u001b[34mEpoch 29/100 | Loss: 2.9804635047912598, train_accuracy: 0.41183528304100037, val_accuracy: 0.3584238588809967\u001b[0m\n",
      "\u001b[34mEpoch 30/100 | Loss: 2.9258272647857666, train_accuracy: 0.42276114225387573, val_accuracy: 0.3730739951133728\u001b[0m\n",
      "\u001b[34mEpoch 31/100 | Loss: 2.87087082862854, train_accuracy: 0.4334343671798706, val_accuracy: 0.381156861782074\u001b[0m\n",
      "\u001b[34mEpoch 32/100 | Loss: 2.815735340118408, train_accuracy: 0.44486546516418457, val_accuracy: 0.3882293403148651\u001b[0m\n",
      "\u001b[34mEpoch 33/100 | Loss: 2.7606310844421387, train_accuracy: 0.4551597833633423, val_accuracy: 0.3968173861503601\u001b[0m\n",
      "\u001b[34mEpoch 34/100 | Loss: 2.705798625946045, train_accuracy: 0.46734875440597534, val_accuracy: 0.405152827501297\u001b[0m\n",
      "\u001b[34mEpoch 35/100 | Loss: 2.6513640880584717, train_accuracy: 0.47549575567245483, val_accuracy: 0.41070976853370667\u001b[0m\n",
      "\u001b[34mEpoch 36/100 | Loss: 2.597491502761841, train_accuracy: 0.48560062050819397, val_accuracy: 0.41677191853523254\u001b[0m\n",
      "\u001b[34mEpoch 37/100 | Loss: 2.5442070960998535, train_accuracy: 0.49658963084220886, val_accuracy: 0.42359182238578796\u001b[0m\n",
      "\u001b[34mEpoch 38/100 | Loss: 2.4915616512298584, train_accuracy: 0.5065681338310242, val_accuracy: 0.4304117262363434\u001b[0m\n",
      "\u001b[34mEpoch 39/100 | Loss: 2.439556360244751, train_accuracy: 0.5186939239501953, val_accuracy: 0.4387471675872803\u001b[0m\n",
      "\u001b[34mEpoch 40/100 | Loss: 2.388240098953247, train_accuracy: 0.5317039489746094, val_accuracy: 0.4501136541366577\u001b[0m\n",
      "\u001b[34mEpoch 41/100 | Loss: 2.3377296924591064, train_accuracy: 0.5425666570663452, val_accuracy: 0.46173277497291565\u001b[0m\n",
      "\u001b[34mEpoch 42/100 | Loss: 2.288139820098877, train_accuracy: 0.5519136190414429, val_accuracy: 0.4715837240219116\u001b[0m\n",
      "\u001b[34mEpoch 43/100 | Loss: 2.2395873069763184, train_accuracy: 0.5611342787742615, val_accuracy: 0.4773932695388794\u001b[0m\n",
      "\u001b[34mEpoch 44/100 | Loss: 2.1921114921569824, train_accuracy: 0.5712391138076782, val_accuracy: 0.48699167370796204\u001b[0m\n",
      "\u001b[34mEpoch 45/100 | Loss: 2.1457631587982178, train_accuracy: 0.5780598521232605, val_accuracy: 0.4948219358921051\u001b[0m\n",
      "\u001b[34mEpoch 46/100 | Loss: 2.1005465984344482, train_accuracy: 0.5843122601509094, val_accuracy: 0.5006314516067505\u001b[0m\n",
      "\u001b[34mEpoch 47/100 | Loss: 2.056468963623047, train_accuracy: 0.5889857411384583, val_accuracy: 0.5092195272445679\u001b[0m\n",
      "\u001b[34mEpoch 48/100 | Loss: 2.0135750770568848, train_accuracy: 0.5941013097763062, val_accuracy: 0.5145238637924194\u001b[0m\n",
      "\u001b[34mEpoch 49/100 | Loss: 1.971871256828308, train_accuracy: 0.598459005355835, val_accuracy: 0.5178075432777405\u001b[0m\n",
      "\u001b[34mEpoch 50/100 | Loss: 1.9313817024230957, train_accuracy: 0.6019325256347656, val_accuracy: 0.5228593349456787\u001b[0m\n",
      "\u001b[34mEpoch 51/100 | Loss: 1.8920925855636597, train_accuracy: 0.6054692268371582, val_accuracy: 0.5269007086753845\u001b[0m\n",
      "\u001b[34mEpoch 52/100 | Loss: 1.8540140390396118, train_accuracy: 0.6099532842636108, val_accuracy: 0.529426634311676\u001b[0m\n",
      "\u001b[34mEpoch 53/100 | Loss: 1.817147135734558, train_accuracy: 0.615700364112854, val_accuracy: 0.5329628586769104\u001b[0m\n",
      "\u001b[34mEpoch 54/100 | Loss: 1.7814823389053345, train_accuracy: 0.6211948990821838, val_accuracy: 0.5359939336776733\u001b[0m\n",
      "\u001b[34mEpoch 55/100 | Loss: 1.7470062971115112, train_accuracy: 0.6258052587509155, val_accuracy: 0.5395301580429077\u001b[0m\n",
      "\u001b[34mEpoch 56/100 | Loss: 1.71367347240448, train_accuracy: 0.6316786408424377, val_accuracy: 0.541550874710083\u001b[0m\n",
      "\u001b[34mEpoch 57/100 | Loss: 1.6814172267913818, train_accuracy: 0.6372362971305847, val_accuracy: 0.5450871586799622\u001b[0m\n",
      "\u001b[34mEpoch 58/100 | Loss: 1.650187373161316, train_accuracy: 0.6417203545570374, val_accuracy: 0.5486233830451965\u001b[0m\n",
      "\u001b[34mEpoch 59/100 | Loss: 1.619935154914856, train_accuracy: 0.6458254456520081, val_accuracy: 0.5516544580459595\u001b[0m\n",
      "\u001b[34mEpoch 60/100 | Loss: 1.590676188468933, train_accuracy: 0.6499936580657959, val_accuracy: 0.5567062497138977\u001b[0m\n",
      "\u001b[34mEpoch 61/100 | Loss: 1.562392234802246, train_accuracy: 0.6549198031425476, val_accuracy: 0.5589795112609863\u001b[0m\n",
      "\u001b[34mEpoch 62/100 | Loss: 1.5350698232650757, train_accuracy: 0.6592143774032593, val_accuracy: 0.5615054368972778\u001b[0m\n",
      "\u001b[34mEpoch 63/100 | Loss: 1.5087064504623413, train_accuracy: 0.663445770740509, val_accuracy: 0.563273549079895\u001b[0m\n",
      "\u001b[34mEpoch 64/100 | Loss: 1.4832427501678467, train_accuracy: 0.6674244999885559, val_accuracy: 0.5645365118980408\u001b[0m\n",
      "\u001b[34mEpoch 65/100 | Loss: 1.458665132522583, train_accuracy: 0.6715295910835266, val_accuracy: 0.5685779452323914\u001b[0m\n",
      "\u001b[34mEpoch 66/100 | Loss: 1.4349297285079956, train_accuracy: 0.6741189956665039, val_accuracy: 0.5711038112640381\u001b[0m\n",
      "\u001b[34mEpoch 67/100 | Loss: 1.4119917154312134, train_accuracy: 0.6771504282951355, val_accuracy: 0.5746400356292725\u001b[0m\n",
      "\u001b[34mEpoch 68/100 | Loss: 1.3898118734359741, train_accuracy: 0.679929256439209, val_accuracy: 0.5796918272972107\u001b[0m\n",
      "\u001b[34mEpoch 69/100 | Loss: 1.3683356046676636, train_accuracy: 0.6825186014175415, val_accuracy: 0.5837332606315613\u001b[0m\n",
      "\u001b[34mEpoch 70/100 | Loss: 1.3475065231323242, train_accuracy: 0.6857395768165588, val_accuracy: 0.5855013728141785\u001b[0m\n",
      "\u001b[34mEpoch 71/100 | Loss: 1.3273143768310547, train_accuracy: 0.6888973116874695, val_accuracy: 0.5875220894813538\u001b[0m\n",
      "\u001b[34mEpoch 72/100 | Loss: 1.307721495628357, train_accuracy: 0.6924971342086792, val_accuracy: 0.5900480151176453\u001b[0m\n",
      "\u001b[34mEpoch 73/100 | Loss: 1.2887266874313354, train_accuracy: 0.6943286657333374, val_accuracy: 0.5930790901184082\u001b[0m\n",
      "\u001b[34mEpoch 74/100 | Loss: 1.2703208923339844, train_accuracy: 0.6960970163345337, val_accuracy: 0.5930790901184082\u001b[0m\n",
      "\u001b[34mEpoch 75/100 | Loss: 1.2524834871292114, train_accuracy: 0.6991916298866272, val_accuracy: 0.5968679189682007\u001b[0m\n",
      "\u001b[34mEpoch 76/100 | Loss: 1.2351936101913452, train_accuracy: 0.7022862434387207, val_accuracy: 0.598888635635376\u001b[0m\n",
      "\u001b[34mEpoch 77/100 | Loss: 1.2184494733810425, train_accuracy: 0.7053176760673523, val_accuracy: 0.5991411805152893\u001b[0m\n",
      "\u001b[34mEpoch 78/100 | Loss: 1.2022061347961426, train_accuracy: 0.7080333232879639, val_accuracy: 0.5998989939689636\u001b[0m\n",
      "\u001b[34mEpoch 79/100 | Loss: 1.1864633560180664, train_accuracy: 0.7106227278709412, val_accuracy: 0.5996463894844055\u001b[0m\n",
      "\u001b[34mEpoch 80/100 | Loss: 1.1711889505386353, train_accuracy: 0.7130225896835327, val_accuracy: 0.6014145016670227\u001b[0m\n",
      "\u001b[34mEpoch 81/100 | Loss: 1.1563682556152344, train_accuracy: 0.7161803841590881, val_accuracy: 0.603435218334198\u001b[0m\n",
      "\u001b[34mEpoch 82/100 | Loss: 1.1419707536697388, train_accuracy: 0.7185171246528625, val_accuracy: 0.6052033305168152\u001b[0m\n",
      "\u001b[34mEpoch 83/100 | Loss: 1.1279842853546143, train_accuracy: 0.7207275629043579, val_accuracy: 0.6064662933349609\u001b[0m\n",
      "\u001b[34mEpoch 84/100 | Loss: 1.114372730255127, train_accuracy: 0.7230643033981323, val_accuracy: 0.60798180103302\u001b[0m\n",
      "\u001b[34mEpoch 85/100 | Loss: 1.1011344194412231, train_accuracy: 0.7260326147079468, val_accuracy: 0.6082344055175781\u001b[0m\n",
      "\u001b[34mEpoch 86/100 | Loss: 1.0882514715194702, train_accuracy: 0.7280535697937012, val_accuracy: 0.6097499132156372\u001b[0m\n",
      "\u001b[34mEpoch 87/100 | Loss: 1.075715184211731, train_accuracy: 0.7304534316062927, val_accuracy: 0.611012876033783\u001b[0m\n",
      "\u001b[34mEpoch 88/100 | Loss: 1.0635181665420532, train_accuracy: 0.7336112260818481, val_accuracy: 0.6122758388519287\u001b[0m\n",
      "\u001b[34mEpoch 89/100 | Loss: 1.0516526699066162, train_accuracy: 0.7362005710601807, val_accuracy: 0.6160646677017212\u001b[0m\n",
      "\u001b[34mEpoch 90/100 | Loss: 1.0401042699813843, train_accuracy: 0.7388530969619751, val_accuracy: 0.6168224215507507\u001b[0m\n",
      "\u001b[34mEpoch 91/100 | Loss: 1.0288667678833008, train_accuracy: 0.7410635352134705, val_accuracy: 0.6173276305198669\u001b[0m\n",
      "\u001b[34mEpoch 92/100 | Loss: 1.0179247856140137, train_accuracy: 0.7440318465232849, val_accuracy: 0.6178327798843384\u001b[0m\n",
      "\u001b[34mEpoch 93/100 | Loss: 1.0072637796401978, train_accuracy: 0.7464317083358765, val_accuracy: 0.6198534965515137\u001b[0m\n",
      "\u001b[34mEpoch 94/100 | Loss: 0.9968713521957397, train_accuracy: 0.7484527230262756, val_accuracy: 0.6216216087341309\u001b[0m\n",
      "\u001b[34mEpoch 95/100 | Loss: 0.9867365956306458, train_accuracy: 0.7505999803543091, val_accuracy: 0.623389720916748\u001b[0m\n",
      "\u001b[34mEpoch 96/100 | Loss: 0.976854145526886, train_accuracy: 0.7521788477897644, val_accuracy: 0.6244000792503357\u001b[0m\n",
      "\u001b[34mEpoch 97/100 | Loss: 0.9672037959098816, train_accuracy: 0.7541998028755188, val_accuracy: 0.6261682510375977\u001b[0m\n",
      "\u001b[34mEpoch 98/100 | Loss: 0.9577828049659729, train_accuracy: 0.756220817565918, val_accuracy: 0.6271786093711853\u001b[0m\n",
      "\u001b[34mEpoch 99/100 | Loss: 0.9485884308815002, train_accuracy: 0.7577365040779114, val_accuracy: 0.6284415125846863\u001b[0m\n",
      "\n",
      "2021-03-26 11:03:03 Uploading - Uploading generated training model\n",
      "2021-03-26 11:03:03 Completed - Training job completed\n",
      "Training seconds: 200\n",
      "Billable seconds: 200\n"
     ]
    }
   ],
   "source": [
    "es.fit()"
   ]
  },
  {
   "cell_type": "code",
   "execution_count": 5,
   "id": "antique-testament",
   "metadata": {},
   "outputs": [
    {
     "name": "stdout",
     "output_type": "stream",
     "text": [
      "-------------!"
     ]
    }
   ],
   "source": [
    "es_predictor = es.deploy(\n",
    "    instance_type='ml.m5.large',\n",
    "    initial_instance_count=1\n",
    ")"
   ]
  },
  {
   "cell_type": "code",
   "execution_count": 14,
   "id": "mobile-international",
   "metadata": {},
   "outputs": [
    {
     "ename": "ModelError",
     "evalue": "An error occurred (ModelError) when calling the InvokeEndpoint operation: Received server error (500) from model with message \"<!DOCTYPE HTML PUBLIC \"-//W3C//DTD HTML 3.2 Final//EN\">\n<title>500 Internal Server Error</title>\n<h1>Internal Server Error</h1>\n<p>The server encountered an internal error and was unable to complete your request. Either the server is overloaded or there is an error in the application.</p>\n\". See https://eu-west-1.console.aws.amazon.com/cloudwatch/home?region=eu-west-1#logEventViewer:group=/aws/sagemaker/Endpoints/dgl-citation-network-2021-03-26-11-08-36-905 in account 939595455984 for more information.",
     "output_type": "error",
     "traceback": [
      "\u001b[0;31m---------------------------------------------------------------------------\u001b[0m",
      "\u001b[0;31mModelError\u001b[0m                                Traceback (most recent call last)",
      "\u001b[0;32m<ipython-input-14-98fb0832f7c5>\u001b[0m in \u001b[0;36m<module>\u001b[0;34m\u001b[0m\n\u001b[1;32m      4\u001b[0m \u001b[0mes_predictor\u001b[0m\u001b[0;34m.\u001b[0m\u001b[0mserializer\u001b[0m \u001b[0;34m=\u001b[0m \u001b[0msagemaker\u001b[0m\u001b[0;34m.\u001b[0m\u001b[0mserializers\u001b[0m\u001b[0;34m.\u001b[0m\u001b[0mCSVSerializer\u001b[0m\u001b[0;34m(\u001b[0m\u001b[0;34m)\u001b[0m\u001b[0;34m\u001b[0m\u001b[0;34m\u001b[0m\u001b[0m\n\u001b[1;32m      5\u001b[0m \u001b[0;34m\u001b[0m\u001b[0m\n\u001b[0;32m----> 6\u001b[0;31m \u001b[0mresponse\u001b[0m \u001b[0;34m=\u001b[0m \u001b[0mes_predictor\u001b[0m\u001b[0;34m.\u001b[0m\u001b[0mpredict\u001b[0m\u001b[0;34m(\u001b[0m\u001b[0mtest_samples\u001b[0m\u001b[0;34m,\u001b[0m \u001b[0minitial_args\u001b[0m\u001b[0;34m=\u001b[0m\u001b[0;34m{\u001b[0m\u001b[0;34m'ContentType'\u001b[0m\u001b[0;34m:\u001b[0m \u001b[0;34m'text/csv'\u001b[0m\u001b[0;34m}\u001b[0m\u001b[0;34m)\u001b[0m\u001b[0;34m\u001b[0m\u001b[0;34m\u001b[0m\u001b[0m\n\u001b[0m\u001b[1;32m      7\u001b[0m \u001b[0mprint\u001b[0m\u001b[0;34m(\u001b[0m\u001b[0mresponse\u001b[0m\u001b[0;34m)\u001b[0m\u001b[0;34m\u001b[0m\u001b[0;34m\u001b[0m\u001b[0m\n",
      "\u001b[0;32m~/anaconda3/envs/pytorch_latest_p36/lib/python3.6/site-packages/sagemaker/predictor.py\u001b[0m in \u001b[0;36mpredict\u001b[0;34m(self, data, initial_args, target_model, target_variant, inference_id)\u001b[0m\n\u001b[1;32m    134\u001b[0m             \u001b[0mdata\u001b[0m\u001b[0;34m,\u001b[0m \u001b[0minitial_args\u001b[0m\u001b[0;34m,\u001b[0m \u001b[0mtarget_model\u001b[0m\u001b[0;34m,\u001b[0m \u001b[0mtarget_variant\u001b[0m\u001b[0;34m,\u001b[0m \u001b[0minference_id\u001b[0m\u001b[0;34m\u001b[0m\u001b[0;34m\u001b[0m\u001b[0m\n\u001b[1;32m    135\u001b[0m         )\n\u001b[0;32m--> 136\u001b[0;31m         \u001b[0mresponse\u001b[0m \u001b[0;34m=\u001b[0m \u001b[0mself\u001b[0m\u001b[0;34m.\u001b[0m\u001b[0msagemaker_session\u001b[0m\u001b[0;34m.\u001b[0m\u001b[0msagemaker_runtime_client\u001b[0m\u001b[0;34m.\u001b[0m\u001b[0minvoke_endpoint\u001b[0m\u001b[0;34m(\u001b[0m\u001b[0;34m**\u001b[0m\u001b[0mrequest_args\u001b[0m\u001b[0;34m)\u001b[0m\u001b[0;34m\u001b[0m\u001b[0;34m\u001b[0m\u001b[0m\n\u001b[0m\u001b[1;32m    137\u001b[0m         \u001b[0;32mreturn\u001b[0m \u001b[0mself\u001b[0m\u001b[0;34m.\u001b[0m\u001b[0m_handle_response\u001b[0m\u001b[0;34m(\u001b[0m\u001b[0mresponse\u001b[0m\u001b[0;34m)\u001b[0m\u001b[0;34m\u001b[0m\u001b[0;34m\u001b[0m\u001b[0m\n\u001b[1;32m    138\u001b[0m \u001b[0;34m\u001b[0m\u001b[0m\n",
      "\u001b[0;32m~/anaconda3/envs/pytorch_latest_p36/lib/python3.6/site-packages/botocore/client.py\u001b[0m in \u001b[0;36m_api_call\u001b[0;34m(self, *args, **kwargs)\u001b[0m\n\u001b[1;32m    355\u001b[0m                     \"%s() only accepts keyword arguments.\" % py_operation_name)\n\u001b[1;32m    356\u001b[0m             \u001b[0;31m# The \"self\" in this scope is referring to the BaseClient.\u001b[0m\u001b[0;34m\u001b[0m\u001b[0;34m\u001b[0m\u001b[0;34m\u001b[0m\u001b[0m\n\u001b[0;32m--> 357\u001b[0;31m             \u001b[0;32mreturn\u001b[0m \u001b[0mself\u001b[0m\u001b[0;34m.\u001b[0m\u001b[0m_make_api_call\u001b[0m\u001b[0;34m(\u001b[0m\u001b[0moperation_name\u001b[0m\u001b[0;34m,\u001b[0m \u001b[0mkwargs\u001b[0m\u001b[0;34m)\u001b[0m\u001b[0;34m\u001b[0m\u001b[0;34m\u001b[0m\u001b[0m\n\u001b[0m\u001b[1;32m    358\u001b[0m \u001b[0;34m\u001b[0m\u001b[0m\n\u001b[1;32m    359\u001b[0m         \u001b[0m_api_call\u001b[0m\u001b[0;34m.\u001b[0m\u001b[0m__name__\u001b[0m \u001b[0;34m=\u001b[0m \u001b[0mstr\u001b[0m\u001b[0;34m(\u001b[0m\u001b[0mpy_operation_name\u001b[0m\u001b[0;34m)\u001b[0m\u001b[0;34m\u001b[0m\u001b[0;34m\u001b[0m\u001b[0m\n",
      "\u001b[0;32m~/anaconda3/envs/pytorch_latest_p36/lib/python3.6/site-packages/botocore/client.py\u001b[0m in \u001b[0;36m_make_api_call\u001b[0;34m(self, operation_name, api_params)\u001b[0m\n\u001b[1;32m    674\u001b[0m             \u001b[0merror_code\u001b[0m \u001b[0;34m=\u001b[0m \u001b[0mparsed_response\u001b[0m\u001b[0;34m.\u001b[0m\u001b[0mget\u001b[0m\u001b[0;34m(\u001b[0m\u001b[0;34m\"Error\"\u001b[0m\u001b[0;34m,\u001b[0m \u001b[0;34m{\u001b[0m\u001b[0;34m}\u001b[0m\u001b[0;34m)\u001b[0m\u001b[0;34m.\u001b[0m\u001b[0mget\u001b[0m\u001b[0;34m(\u001b[0m\u001b[0;34m\"Code\"\u001b[0m\u001b[0;34m)\u001b[0m\u001b[0;34m\u001b[0m\u001b[0;34m\u001b[0m\u001b[0m\n\u001b[1;32m    675\u001b[0m             \u001b[0merror_class\u001b[0m \u001b[0;34m=\u001b[0m \u001b[0mself\u001b[0m\u001b[0;34m.\u001b[0m\u001b[0mexceptions\u001b[0m\u001b[0;34m.\u001b[0m\u001b[0mfrom_code\u001b[0m\u001b[0;34m(\u001b[0m\u001b[0merror_code\u001b[0m\u001b[0;34m)\u001b[0m\u001b[0;34m\u001b[0m\u001b[0;34m\u001b[0m\u001b[0m\n\u001b[0;32m--> 676\u001b[0;31m             \u001b[0;32mraise\u001b[0m \u001b[0merror_class\u001b[0m\u001b[0;34m(\u001b[0m\u001b[0mparsed_response\u001b[0m\u001b[0;34m,\u001b[0m \u001b[0moperation_name\u001b[0m\u001b[0;34m)\u001b[0m\u001b[0;34m\u001b[0m\u001b[0;34m\u001b[0m\u001b[0m\n\u001b[0m\u001b[1;32m    677\u001b[0m         \u001b[0;32melse\u001b[0m\u001b[0;34m:\u001b[0m\u001b[0;34m\u001b[0m\u001b[0;34m\u001b[0m\u001b[0m\n\u001b[1;32m    678\u001b[0m             \u001b[0;32mreturn\u001b[0m \u001b[0mparsed_response\u001b[0m\u001b[0;34m\u001b[0m\u001b[0;34m\u001b[0m\u001b[0m\n",
      "\u001b[0;31mModelError\u001b[0m: An error occurred (ModelError) when calling the InvokeEndpoint operation: Received server error (500) from model with message \"<!DOCTYPE HTML PUBLIC \"-//W3C//DTD HTML 3.2 Final//EN\">\n<title>500 Internal Server Error</title>\n<h1>Internal Server Error</h1>\n<p>The server encountered an internal error and was unable to complete your request. Either the server is overloaded or there is an error in the application.</p>\n\". See https://eu-west-1.console.aws.amazon.com/cloudwatch/home?region=eu-west-1#logEventViewer:group=/aws/sagemaker/Endpoints/dgl-citation-network-2021-03-26-11-08-36-905 in account 939595455984 for more information."
     ]
    }
   ],
   "source": [
    "test_samples = ['0, 2, 4, 5']\n",
    "\n",
    "# es_predictor.content_type = 'text/csv' \n",
    "es_predictor.serializer = sagemaker.serializers.CSVSerializer()\n",
    "\n",
    "response = es_predictor.predict(test_samples, initial_args={'ContentType': 'text/csv'}) \n",
    "print(response)"
   ]
  },
  {
   "cell_type": "code",
   "execution_count": null,
   "id": "acquired-violin",
   "metadata": {},
   "outputs": [],
   "source": []
  },
  {
   "cell_type": "code",
   "execution_count": 16,
   "id": "adopted-numbers",
   "metadata": {},
   "outputs": [
    {
     "ename": "ClientError",
     "evalue": "An error occurred (ValidationException) when calling the DeleteEndpointConfig operation: Could not find endpoint configuration \"arn:aws:sagemaker:eu-west-1:939595455984:endpoint-config/dgl-citation-network-2021-03-26-11-08-36-905\".",
     "output_type": "error",
     "traceback": [
      "\u001b[0;31m---------------------------------------------------------------------------\u001b[0m",
      "\u001b[0;31mClientError\u001b[0m                               Traceback (most recent call last)",
      "\u001b[0;32m<ipython-input-16-c9b72cac6e58>\u001b[0m in \u001b[0;36m<module>\u001b[0;34m\u001b[0m\n\u001b[0;32m----> 1\u001b[0;31m \u001b[0mes_predictor\u001b[0m\u001b[0;34m.\u001b[0m\u001b[0mdelete_endpoint\u001b[0m\u001b[0;34m(\u001b[0m\u001b[0;34m)\u001b[0m\u001b[0;34m\u001b[0m\u001b[0;34m\u001b[0m\u001b[0m\n\u001b[0m",
      "\u001b[0;32m~/anaconda3/envs/pytorch_latest_p36/lib/python3.6/site-packages/sagemaker/predictor.py\u001b[0m in \u001b[0;36mdelete_endpoint\u001b[0;34m(self, delete_endpoint_config)\u001b[0m\n\u001b[1;32m    302\u001b[0m         \"\"\"\n\u001b[1;32m    303\u001b[0m         \u001b[0;32mif\u001b[0m \u001b[0mdelete_endpoint_config\u001b[0m\u001b[0;34m:\u001b[0m\u001b[0;34m\u001b[0m\u001b[0;34m\u001b[0m\u001b[0m\n\u001b[0;32m--> 304\u001b[0;31m             \u001b[0mself\u001b[0m\u001b[0;34m.\u001b[0m\u001b[0m_delete_endpoint_config\u001b[0m\u001b[0;34m(\u001b[0m\u001b[0;34m)\u001b[0m\u001b[0;34m\u001b[0m\u001b[0;34m\u001b[0m\u001b[0m\n\u001b[0m\u001b[1;32m    305\u001b[0m \u001b[0;34m\u001b[0m\u001b[0m\n\u001b[1;32m    306\u001b[0m         \u001b[0mself\u001b[0m\u001b[0;34m.\u001b[0m\u001b[0msagemaker_session\u001b[0m\u001b[0;34m.\u001b[0m\u001b[0mdelete_endpoint\u001b[0m\u001b[0;34m(\u001b[0m\u001b[0mself\u001b[0m\u001b[0;34m.\u001b[0m\u001b[0mendpoint_name\u001b[0m\u001b[0;34m)\u001b[0m\u001b[0;34m\u001b[0m\u001b[0;34m\u001b[0m\u001b[0m\n",
      "\u001b[0;32m~/anaconda3/envs/pytorch_latest_p36/lib/python3.6/site-packages/sagemaker/predictor.py\u001b[0m in \u001b[0;36m_delete_endpoint_config\u001b[0;34m(self)\u001b[0m\n\u001b[1;32m    287\u001b[0m         \u001b[0;34m\"\"\"Delete the Amazon SageMaker endpoint configuration\"\"\"\u001b[0m\u001b[0;34m\u001b[0m\u001b[0;34m\u001b[0m\u001b[0m\n\u001b[1;32m    288\u001b[0m         \u001b[0mcurrent_endpoint_config_name\u001b[0m \u001b[0;34m=\u001b[0m \u001b[0mself\u001b[0m\u001b[0;34m.\u001b[0m\u001b[0m_get_endpoint_config_name\u001b[0m\u001b[0;34m(\u001b[0m\u001b[0;34m)\u001b[0m\u001b[0;34m\u001b[0m\u001b[0;34m\u001b[0m\u001b[0m\n\u001b[0;32m--> 289\u001b[0;31m         \u001b[0mself\u001b[0m\u001b[0;34m.\u001b[0m\u001b[0msagemaker_session\u001b[0m\u001b[0;34m.\u001b[0m\u001b[0mdelete_endpoint_config\u001b[0m\u001b[0;34m(\u001b[0m\u001b[0mcurrent_endpoint_config_name\u001b[0m\u001b[0;34m)\u001b[0m\u001b[0;34m\u001b[0m\u001b[0;34m\u001b[0m\u001b[0m\n\u001b[0m\u001b[1;32m    290\u001b[0m \u001b[0;34m\u001b[0m\u001b[0m\n\u001b[1;32m    291\u001b[0m     \u001b[0;32mdef\u001b[0m \u001b[0mdelete_endpoint\u001b[0m\u001b[0;34m(\u001b[0m\u001b[0mself\u001b[0m\u001b[0;34m,\u001b[0m \u001b[0mdelete_endpoint_config\u001b[0m\u001b[0;34m=\u001b[0m\u001b[0;32mTrue\u001b[0m\u001b[0;34m)\u001b[0m\u001b[0;34m:\u001b[0m\u001b[0;34m\u001b[0m\u001b[0;34m\u001b[0m\u001b[0m\n",
      "\u001b[0;32m~/anaconda3/envs/pytorch_latest_p36/lib/python3.6/site-packages/sagemaker/session.py\u001b[0m in \u001b[0;36mdelete_endpoint_config\u001b[0;34m(self, endpoint_config_name)\u001b[0m\n\u001b[1;32m   3009\u001b[0m         \"\"\"\n\u001b[1;32m   3010\u001b[0m         \u001b[0mLOGGER\u001b[0m\u001b[0;34m.\u001b[0m\u001b[0minfo\u001b[0m\u001b[0;34m(\u001b[0m\u001b[0;34m\"Deleting endpoint configuration with name: %s\"\u001b[0m\u001b[0;34m,\u001b[0m \u001b[0mendpoint_config_name\u001b[0m\u001b[0;34m)\u001b[0m\u001b[0;34m\u001b[0m\u001b[0;34m\u001b[0m\u001b[0m\n\u001b[0;32m-> 3011\u001b[0;31m         \u001b[0mself\u001b[0m\u001b[0;34m.\u001b[0m\u001b[0msagemaker_client\u001b[0m\u001b[0;34m.\u001b[0m\u001b[0mdelete_endpoint_config\u001b[0m\u001b[0;34m(\u001b[0m\u001b[0mEndpointConfigName\u001b[0m\u001b[0;34m=\u001b[0m\u001b[0mendpoint_config_name\u001b[0m\u001b[0;34m)\u001b[0m\u001b[0;34m\u001b[0m\u001b[0;34m\u001b[0m\u001b[0m\n\u001b[0m\u001b[1;32m   3012\u001b[0m \u001b[0;34m\u001b[0m\u001b[0m\n\u001b[1;32m   3013\u001b[0m     \u001b[0;32mdef\u001b[0m \u001b[0mdelete_model\u001b[0m\u001b[0;34m(\u001b[0m\u001b[0mself\u001b[0m\u001b[0;34m,\u001b[0m \u001b[0mmodel_name\u001b[0m\u001b[0;34m)\u001b[0m\u001b[0;34m:\u001b[0m\u001b[0;34m\u001b[0m\u001b[0;34m\u001b[0m\u001b[0m\n",
      "\u001b[0;32m~/anaconda3/envs/pytorch_latest_p36/lib/python3.6/site-packages/botocore/client.py\u001b[0m in \u001b[0;36m_api_call\u001b[0;34m(self, *args, **kwargs)\u001b[0m\n\u001b[1;32m    355\u001b[0m                     \"%s() only accepts keyword arguments.\" % py_operation_name)\n\u001b[1;32m    356\u001b[0m             \u001b[0;31m# The \"self\" in this scope is referring to the BaseClient.\u001b[0m\u001b[0;34m\u001b[0m\u001b[0;34m\u001b[0m\u001b[0;34m\u001b[0m\u001b[0m\n\u001b[0;32m--> 357\u001b[0;31m             \u001b[0;32mreturn\u001b[0m \u001b[0mself\u001b[0m\u001b[0;34m.\u001b[0m\u001b[0m_make_api_call\u001b[0m\u001b[0;34m(\u001b[0m\u001b[0moperation_name\u001b[0m\u001b[0;34m,\u001b[0m \u001b[0mkwargs\u001b[0m\u001b[0;34m)\u001b[0m\u001b[0;34m\u001b[0m\u001b[0;34m\u001b[0m\u001b[0m\n\u001b[0m\u001b[1;32m    358\u001b[0m \u001b[0;34m\u001b[0m\u001b[0m\n\u001b[1;32m    359\u001b[0m         \u001b[0m_api_call\u001b[0m\u001b[0;34m.\u001b[0m\u001b[0m__name__\u001b[0m \u001b[0;34m=\u001b[0m \u001b[0mstr\u001b[0m\u001b[0;34m(\u001b[0m\u001b[0mpy_operation_name\u001b[0m\u001b[0;34m)\u001b[0m\u001b[0;34m\u001b[0m\u001b[0;34m\u001b[0m\u001b[0m\n",
      "\u001b[0;32m~/anaconda3/envs/pytorch_latest_p36/lib/python3.6/site-packages/botocore/client.py\u001b[0m in \u001b[0;36m_make_api_call\u001b[0;34m(self, operation_name, api_params)\u001b[0m\n\u001b[1;32m    674\u001b[0m             \u001b[0merror_code\u001b[0m \u001b[0;34m=\u001b[0m \u001b[0mparsed_response\u001b[0m\u001b[0;34m.\u001b[0m\u001b[0mget\u001b[0m\u001b[0;34m(\u001b[0m\u001b[0;34m\"Error\"\u001b[0m\u001b[0;34m,\u001b[0m \u001b[0;34m{\u001b[0m\u001b[0;34m}\u001b[0m\u001b[0;34m)\u001b[0m\u001b[0;34m.\u001b[0m\u001b[0mget\u001b[0m\u001b[0;34m(\u001b[0m\u001b[0;34m\"Code\"\u001b[0m\u001b[0;34m)\u001b[0m\u001b[0;34m\u001b[0m\u001b[0;34m\u001b[0m\u001b[0m\n\u001b[1;32m    675\u001b[0m             \u001b[0merror_class\u001b[0m \u001b[0;34m=\u001b[0m \u001b[0mself\u001b[0m\u001b[0;34m.\u001b[0m\u001b[0mexceptions\u001b[0m\u001b[0;34m.\u001b[0m\u001b[0mfrom_code\u001b[0m\u001b[0;34m(\u001b[0m\u001b[0merror_code\u001b[0m\u001b[0;34m)\u001b[0m\u001b[0;34m\u001b[0m\u001b[0;34m\u001b[0m\u001b[0m\n\u001b[0;32m--> 676\u001b[0;31m             \u001b[0;32mraise\u001b[0m \u001b[0merror_class\u001b[0m\u001b[0;34m(\u001b[0m\u001b[0mparsed_response\u001b[0m\u001b[0;34m,\u001b[0m \u001b[0moperation_name\u001b[0m\u001b[0;34m)\u001b[0m\u001b[0;34m\u001b[0m\u001b[0;34m\u001b[0m\u001b[0m\n\u001b[0m\u001b[1;32m    677\u001b[0m         \u001b[0;32melse\u001b[0m\u001b[0;34m:\u001b[0m\u001b[0;34m\u001b[0m\u001b[0;34m\u001b[0m\u001b[0m\n\u001b[1;32m    678\u001b[0m             \u001b[0;32mreturn\u001b[0m \u001b[0mparsed_response\u001b[0m\u001b[0;34m\u001b[0m\u001b[0;34m\u001b[0m\u001b[0m\n",
      "\u001b[0;31mClientError\u001b[0m: An error occurred (ValidationException) when calling the DeleteEndpointConfig operation: Could not find endpoint configuration \"arn:aws:sagemaker:eu-west-1:939595455984:endpoint-config/dgl-citation-network-2021-03-26-11-08-36-905\"."
     ]
    }
   ],
   "source": [
    "es_predictor.delete_endpoint()"
   ]
  },
  {
   "cell_type": "code",
   "execution_count": null,
   "id": "governing-prerequisite",
   "metadata": {},
   "outputs": [],
   "source": []
  }
 ],
 "metadata": {
  "kernelspec": {
   "display_name": "conda_pytorch_latest_p36",
   "language": "python",
   "name": "conda_pytorch_latest_p36"
  },
  "language_info": {
   "codemirror_mode": {
    "name": "ipython",
    "version": 3
   },
   "file_extension": ".py",
   "mimetype": "text/x-python",
   "name": "python",
   "nbconvert_exporter": "python",
   "pygments_lexer": "ipython3",
   "version": "3.6.13"
  }
 },
 "nbformat": 4,
 "nbformat_minor": 5
}
