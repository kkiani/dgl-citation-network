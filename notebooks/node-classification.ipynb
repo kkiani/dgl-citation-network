{
 "metadata": {
  "language_info": {
   "codemirror_mode": {
    "name": "ipython",
    "version": 3
   },
   "file_extension": ".py",
   "mimetype": "text/x-python",
   "name": "python",
   "nbconvert_exporter": "python",
   "pygments_lexer": "ipython3",
   "version": "3.9.0-final"
  },
  "orig_nbformat": 2,
  "kernelspec": {
   "name": "python3",
   "display_name": "Python 3.9.0 64-bit ('venv')",
   "metadata": {
    "interpreter": {
     "hash": "b05fcc5252944b7939c64f06d71d2c86dae04a6319ec0d0119eb8f9cab5e70a3"
    }
   }
  }
 },
 "nbformat": 4,
 "nbformat_minor": 2,
 "cells": [
  {
   "cell_type": "code",
   "execution_count": 1,
   "metadata": {},
   "outputs": [
    {
     "output_type": "stream",
     "name": "stderr",
     "text": [
      "Using backend: pytorch\n"
     ]
    }
   ],
   "source": [
    "import dgl\n",
    "import torch\n",
    "import torch.nn as nn\n",
    "import torch.nn.functional as F"
   ]
  },
  {
   "source": [
    "# Importing dataset"
   ],
   "cell_type": "markdown",
   "metadata": {}
  },
  {
   "cell_type": "code",
   "execution_count": 2,
   "metadata": {},
   "outputs": [
    {
     "output_type": "stream",
     "name": "stdout",
     "text": [
      "  NumNodes: 2708\n  NumEdges: 10556\n  NumFeats: 1433\n  NumClasses: 7\n  NumTrainingSamples: 140\n  NumValidationSamples: 500\n  NumTestSamples: 1000\nDone loading data from cached files.\nNumber of categories: 7\n"
     ]
    }
   ],
   "source": [
    "import dgl.data\n",
    "\n",
    "dataset = dgl.data.CoraGraphDataset()\n",
    "print('Number of categories:', dataset.num_classes)"
   ]
  },
  {
   "cell_type": "code",
   "execution_count": 3,
   "metadata": {},
   "outputs": [
    {
     "output_type": "stream",
     "name": "stdout",
     "text": [
      "Help on CoraGraphDataset in module dgl.data.citation_graph object:\n\nclass CoraGraphDataset(CitationGraphDataset)\n |  CoraGraphDataset(raw_dir=None, force_reload=False, verbose=True, reverse_edge=True)\n |  \n |  Cora citation network dataset.\n |  \n |  .. deprecated:: 0.5.0\n |  \n |      - ``graph`` is deprecated, it is replaced by:\n |  \n |          >>> dataset = CoraGraphDataset()\n |          >>> graph = dataset[0]\n |  \n |      - ``train_mask`` is deprecated, it is replaced by:\n |  \n |          >>> dataset = CoraGraphDataset()\n |          >>> graph = dataset[0]\n |          >>> train_mask = graph.ndata['train_mask']\n |  \n |      - ``val_mask`` is deprecated, it is replaced by:\n |  \n |          >>> dataset = CoraGraphDataset()\n |          >>> graph = dataset[0]\n |          >>> val_mask = graph.ndata['val_mask']\n |  \n |      - ``test_mask`` is deprecated, it is replaced by:\n |  \n |          >>> dataset = CoraGraphDataset()\n |          >>> graph = dataset[0]\n |          >>> test_mask = graph.ndata['test_mask']\n |  \n |      - ``labels`` is deprecated, it is replaced by:\n |  \n |          >>> dataset = CoraGraphDataset()\n |          >>> graph = dataset[0]\n |          >>> labels = graph.ndata['label']\n |  \n |      - ``feat`` is deprecated, it is replaced by:\n |  \n |          >>> dataset = CoraGraphDataset()\n |          >>> graph = dataset[0]\n |          >>> feat = graph.ndata['feat']\n |  \n |  Nodes mean paper and edges mean citation\n |  relationships. Each node has a predefined\n |  feature with 1433 dimensions. The dataset is\n |  designed for the node classification task.\n |  The task is to predict the category of\n |  certain paper.\n |  \n |  Statistics:\n |  \n |  - Nodes: 2708\n |  - Edges: 10556\n |  - Number of Classes: 7\n |  - Label split:\n |  \n |      - Train: 140\n |      - Valid: 500\n |      - Test: 1000\n |  \n |  Parameters\n |  ----------\n |  raw_dir : str\n |      Raw file directory to download/contains the input data directory.\n |      Default: ~/.dgl/\n |  force_reload : bool\n |      Whether to reload the dataset. Default: False\n |  verbose: bool\n |      Whether to print out progress information. Default: True.\n |  reverse_edge: bool\n |      Whether to add reverse edges in graph. Default: True.\n |  \n |  Attributes\n |  ----------\n |  num_classes: int\n |      Number of label classes\n |  graph: networkx.DiGraph\n |      Graph structure\n |  train_mask: numpy.ndarray\n |      Mask of training nodes\n |  val_mask: numpy.ndarray\n |      Mask of validation nodes\n |  test_mask: numpy.ndarray\n |      Mask of test nodes\n |  labels: numpy.ndarray\n |      Ground truth labels of each node\n |  features: Tensor\n |      Node features\n |  \n |  Notes\n |  -----\n |  The node feature is row-normalized.\n |  \n |  Examples\n |  --------\n |  >>> dataset = CoraGraphDataset()\n |  >>> g = dataset[0]\n |  >>> num_class = g.num_classes\n |  >>>\n |  >>> # get node feature\n |  >>> feat = g.ndata['feat']\n |  >>>\n |  >>> # get data split\n |  >>> train_mask = g.ndata['train_mask']\n |  >>> val_mask = g.ndata['val_mask']\n |  >>> test_mask = g.ndata['test_mask']\n |  >>>\n |  >>> # get labels\n |  >>> label = g.ndata['label']\n |  >>>\n |  >>> # Train, Validation and Test\n |  \n |  Method resolution order:\n |      CoraGraphDataset\n |      CitationGraphDataset\n |      dgl.data.dgl_dataset.DGLBuiltinDataset\n |      dgl.data.dgl_dataset.DGLDataset\n |      builtins.object\n |  \n |  Methods defined here:\n |  \n |  __getitem__(self, idx)\n |      Gets the graph object\n |      \n |      Parameters\n |      -----------\n |      idx: int\n |          Item index, CoraGraphDataset has only one graph object\n |      \n |      Return\n |      ------\n |      :class:`dgl.DGLGraph`\n |      \n |          graph structure, node features and labels.\n |      \n |          - ``ndata['train_mask']``： mask for training node set\n |          - ``ndata['val_mask']``: mask for validation node set\n |          - ``ndata['test_mask']``: mask for test node set\n |          - ``ndata['feat']``: node feature\n |          - ``ndata['label']``: ground truth labels\n |  \n |  __init__(self, raw_dir=None, force_reload=False, verbose=True, reverse_edge=True)\n |      Initialize self.  See help(type(self)) for accurate signature.\n |  \n |  __len__(self)\n |      The number of graphs in the dataset.\n |  \n |  ----------------------------------------------------------------------\n |  Methods inherited from CitationGraphDataset:\n |  \n |  has_cache(self)\n |      Overwrite to realize your own logic of\n |      deciding whether there exists a cached dataset.\n |      \n |      By default False.\n |  \n |  load(self)\n |      Overwite to realize your own logic of\n |      loading the saved dataset from files.\n |      \n |      It is recommended to use ``dgl.utils.data.load_graphs``\n |      to load dgl graph from files and use\n |      ``dgl.utils.data.load_info`` to load extra information\n |      into python dict object.\n |  \n |  process(self)\n |      Loads input data from data directory\n |      \n |      ind.name.x => the feature vectors of the training instances as scipy.sparse.csr.csr_matrix object;\n |      ind.name.tx => the feature vectors of the test instances as scipy.sparse.csr.csr_matrix object;\n |      ind.name.allx => the feature vectors of both labeled and unlabeled training instances\n |          (a superset of ind.name.x) as scipy.sparse.csr.csr_matrix object;\n |      ind.name.y => the one-hot labels of the labeled training instances as numpy.ndarray object;\n |      ind.name.ty => the one-hot labels of the test instances as numpy.ndarray object;\n |      ind.name.ally => the labels for instances in ind.name.allx as numpy.ndarray object;\n |      ind.name.graph => a dict in the format {index: [index_of_neighbor_nodes]} as collections.defaultdict\n |          object;\n |      ind.name.test.index => the indices of test instances in graph, for the inductive setting as list object.\n |  \n |  save(self)\n |      save the graph list and the labels\n |  \n |  ----------------------------------------------------------------------\n |  Readonly properties inherited from CitationGraphDataset:\n |  \n |  features\n |  \n |  graph\n |  \n |  labels\n |  \n |  num_classes\n |  \n |  num_labels\n |  \n |  reverse_edge\n |  \n |  save_name\n |  \n |  test_mask\n |  \n |  train_mask\n |  \n |  val_mask\n |  \n |  ----------------------------------------------------------------------\n |  Methods inherited from dgl.data.dgl_dataset.DGLBuiltinDataset:\n |  \n |  download(self)\n |      Automatically download data and extract it.\n |  \n |  ----------------------------------------------------------------------\n |  Readonly properties inherited from dgl.data.dgl_dataset.DGLDataset:\n |  \n |  hash\n |      Hash value for the dataset and the setting.\n |  \n |  name\n |      Name of the dataset.\n |  \n |  raw_dir\n |      Raw file directory contains the input data folder.\n |  \n |  raw_path\n |      Directory contains the input data files.\n |      By default raw_path = os.path.join(self.raw_dir, self.name)\n |  \n |  save_dir\n |      Directory to save the processed dataset.\n |  \n |  save_path\n |      Path to save the processed dataset.\n |  \n |  url\n |      Get url to download the raw dataset.\n |  \n |  verbose\n |      Whether to print information.\n |  \n |  ----------------------------------------------------------------------\n |  Data descriptors inherited from dgl.data.dgl_dataset.DGLDataset:\n |  \n |  __dict__\n |      dictionary for instance variables (if defined)\n |  \n |  __weakref__\n |      list of weak references to the object (if defined)\n\n"
     ]
    }
   ],
   "source": [
    "help(dataset)"
   ]
  },
  {
   "cell_type": "code",
   "execution_count": 4,
   "metadata": {},
   "outputs": [],
   "source": [
    "graph = dataset[0]"
   ]
  },
  {
   "cell_type": "code",
   "execution_count": 5,
   "metadata": {},
   "outputs": [
    {
     "output_type": "execute_result",
     "data": {
      "text/plain": [
       "Graph(num_nodes=2708, num_edges=10556,\n",
       "      ndata_schemes={'feat': Scheme(shape=(1433,), dtype=torch.float32), 'label': Scheme(shape=(), dtype=torch.int64), 'val_mask': Scheme(shape=(), dtype=torch.bool), 'test_mask': Scheme(shape=(), dtype=torch.bool), 'train_mask': Scheme(shape=(), dtype=torch.bool)}\n",
       "      edata_schemes={})"
      ]
     },
     "metadata": {},
     "execution_count": 5
    }
   ],
   "source": [
    "graph"
   ]
  },
  {
   "cell_type": "code",
   "execution_count": 6,
   "metadata": {},
   "outputs": [
    {
     "output_type": "execute_result",
     "data": {
      "text/plain": [
       "dict_keys(['feat', 'label', 'val_mask', 'test_mask', 'train_mask'])"
      ]
     },
     "metadata": {},
     "execution_count": 6
    }
   ],
   "source": [
    "graph.ndata.keys()"
   ]
  },
  {
   "cell_type": "code",
   "execution_count": 7,
   "metadata": {},
   "outputs": [
    {
     "output_type": "execute_result",
     "data": {
      "text/plain": [
       "tensor([3, 4, 4,  ..., 3, 3, 3])"
      ]
     },
     "metadata": {},
     "execution_count": 7
    }
   ],
   "source": [
    "graph.ndata['label']"
   ]
  },
  {
   "cell_type": "code",
   "execution_count": null,
   "metadata": {},
   "outputs": [],
   "source": []
  }
 ]
}